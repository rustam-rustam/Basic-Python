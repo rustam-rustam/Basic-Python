{
 "cells": [
  {
   "cell_type": "markdown",
   "metadata": {},
   "source": [
    "# Homework #2"
   ]
  },
  {
   "cell_type": "markdown",
   "metadata": {},
   "source": [
    "1. Создать список и заполнить его элементами различных типов данных. Реализовать скрипт проверки типа данных каждого элемента. Использовать функцию type() для проверки типа. Элементы списка можно не запрашивать у пользователя, а указать явно, в программе."
   ]
  },
  {
   "cell_type": "code",
   "execution_count": 1,
   "metadata": {},
   "outputs": [
    {
     "name": "stdout",
     "output_type": "stream",
     "text": [
      "<class 'int'>\n",
      "<class 'float'>\n",
      "<class 'str'>\n"
     ]
    }
   ],
   "source": [
    "list = [24, 35.5, 'perfect']\n",
    "i=0\n",
    "while i < len(list):\n",
    "    print(type(list[i]))\n",
    "    i+=1"
   ]
  },
  {
   "cell_type": "markdown",
   "metadata": {},
   "source": [
    "2. Для списка реализовать обмен значений соседних элементов, т.е. Значениями обмениваются элементы с индексами 0 и 1, 2 и 3 и т.д. При нечетном количестве элементов последний сохранить на своем месте. Для заполнения списка элементов необходимо использовать функцию input()."
   ]
  },
  {
   "cell_type": "code",
   "execution_count": null,
   "metadata": {},
   "outputs": [],
   "source": [
    "функция меняет местами элементы списка"
   ]
  },
  {
   "cell_type": "code",
   "execution_count": null,
   "metadata": {},
   "outputs": [],
   "source": [
    "def swap_elements(list):\n",
    "    i = 0\n",
    "    while i < len(list) - 1:\n",
    "        list[i], list[i + 1] = list[i + 1], list[i]\n",
    "        i = i + 2\n",
    "    print(list)"
   ]
  },
  {
   "cell_type": "code",
   "execution_count": null,
   "metadata": {},
   "outputs": [],
   "source": [
    "l = list()\n",
    "answer = ''\n",
    "while answer != 'q':\n",
    "    answer = input(\"Are you ready to create list? (Y/N/q)\")\n",
    "    while answer == 'Y':\n",
    "        try:\n",
    "            print(\"[1] string\")\n",
    "            print(\"[2] integer\")\n",
    "            print(\"[3] float\")\n",
    "            print(\"[4] bool\")\n",
    "            print(\"[5] list\")\n",
    "            print(\"[6] print result\")\n",
    "            y = int(input(\"Please define the type of the future element in list:\"))\n",
    "            if y == 1:\n",
    "                x = input(\"Please enter the element:\")\n",
    "                l.append(x)\n",
    "            elif y == 2:\n",
    "                x = int(input(\"Please enter the element:\"))\n",
    "                l.append(x)\n",
    "            elif y == 3:\n",
    "                x = float(input(\"Please enter the element:\"))\n",
    "                l.append(x)\n",
    "            elif y == 4:\n",
    "                x = bool(input(\"Please enter the element:\"))\n",
    "                l.append(x)\n",
    "            elif y == 5:\n",
    "                x = list(input(\"Please enter the element:\"))\n",
    "                l.append(x)\n",
    "            elif y == 6:\n",
    "                print(l)\n",
    "                swap_elements(l)\n",
    "                break\n",
    "            else:\n",
    "                print(\"You did something wrong)\")\n",
    "        except:\n",
    "            print('Invalid input')\n",
    "            continue\n",
    "    if answer == 'N':\n",
    "        print(\"Good bay\")\n",
    "        break\n",
    "    elif answer == 'q':\n",
    "        break\n",
    "    else:\n",
    "        print('Please enter Y or N')\n",
    "        continue"
   ]
  },
  {
   "cell_type": "markdown",
   "metadata": {},
   "source": [
    "3. Пользователь вводит месяц в виде целого числа от 1 до 12. Сообщить к какому времени года относится месяц (зима, весна, лето, осень). Напишите решения через list и через dict."
   ]
  },
  {
   "cell_type": "code",
   "execution_count": null,
   "metadata": {},
   "outputs": [],
   "source": [
    "seasons = {'Winter': (1, 2, 12),'Spring': (3, 4, 5), 'Summer': (6, 7, 8), 'Autumn': (9, 10, 11)}\n",
    "month = int(input('Enter a month: '))\n",
    "for key in seasons.keys():\n",
    "    if month in seasons[key]:\n",
    "        print(key)"
   ]
  },
  {
   "cell_type": "markdown",
   "metadata": {},
   "source": [
    "4. Пользователь вводит строку из нескольких слов, разделённых пробелами. Вывести каждое слово с новой строки. Строки необходимо пронумеровать. Если в слово длинное, выводить только первые 10 букв в слове."
   ]
  },
  {
   "cell_type": "code",
   "execution_count": null,
   "metadata": {},
   "outputs": [],
   "source": [
    "words = input(\"Please input words: \")\n",
    "new_words = words.split()\n",
    "i = 0\n",
    "while i < len(new_words):\n",
    "    if len(new_words[i]) > 10:\n",
    "        print(i, new_words[i][:10])\n",
    "    else:\n",
    "        print(i, new_words[i])\n",
    "    i = i + 1"
   ]
  },
  {
   "cell_type": "markdown",
   "metadata": {},
   "source": [
    "5. Реализовать структуру «Рейтинг», представляющую собой набор натуральных чисел, который\n",
    "не возрастает. У пользователя нужно запрашивать новый элемент рейтинга. Если в рейтинге\n",
    "существуют элементы с одинаковыми значениями, то новый элемент с тем же значением\n",
    "должен разместиться после них.\n",
    "Подсказка. Например, набор натуральных чисел: 7, 5, 3, 3, 2.\n",
    "Пользователь ввёл число 3. Результат: 7, 5, 3, 3, 3, 2.\n",
    "Пользователь ввёл число 8. Результат: 8, 7, 5, 3, 3, 2.\n",
    "Пользователь ввёл число 1. Результат: 7, 5, 3, 3, 2, 1.\n",
    "Набор натуральных чисел можно задать сразу в коде, например, my_list = [7, 5, 3, 3, 2]."
   ]
  },
  {
   "cell_type": "code",
   "execution_count": null,
   "metadata": {},
   "outputs": [],
   "source": [
    "my_list = [7, 5, 3, 3, 2]\n",
    "x = ''\n",
    "while x != 0:\n",
    "    x = int(input(\"Please input rating: \"))\n",
    "    for i in range(len(my_list)):\n",
    "        if x == my_list[i]:\n",
    "            my_list.insert(i+1, x)\n",
    "            break\n",
    "            # print(my_list)\n",
    "        elif my_list[i] > x and x > my_list[i+1]:\n",
    "            my_list.insert(i+1, x)\n",
    "\n",
    "        elif my_list[len(my_list)-1] > x:\n",
    "            my_list.append(x)\n",
    "\n",
    "        elif my_list[0] < x:\n",
    "            my_list.insert(0, x)\n",
    "\n",
    "        print(my_list)"
   ]
  },
  {
   "cell_type": "markdown",
   "metadata": {},
   "source": [
    "6. *Реализовать структуру данных «Товары». Она должна представлять собой список кортежей.\n",
    "Каждый кортеж хранит информацию об отдельном товаре. В кортеже должно быть два\n",
    "элемента — номер товара и словарь с параметрами, то есть характеристиками товара:\n",
    "название, цена, количество, единица измерения. Структуру нужно сформировать программно,\n",
    "запросив все данные у пользователя.\n",
    "Пример готовой структуры:\n",
    "[\n",
    "(1, {“название”: “компьютер”, “цена”: 20000, “количество”: 5, “eд”: “шт.”}),\n",
    "(2, {“название”: “принтер”, “цена”: 6000, “количество”: 2, “eд”: “шт.”}),\n",
    "(3, {“название”: “сканер”, “цена”: 2000, “количество”: 7, “eд”: “шт.”})\n",
    "]\n",
    "Нужно собрать аналитику о товарах. Реализовать словарь, в котором каждый ключ —\n",
    "характеристика товара, например, название. Тогда значение — список\n",
    "значений-характеристик, например, список названий товаров.\n",
    "Пример:\n",
    "{\n",
    "“название”: [“компьютер”, “принтер”, “сканер”],\n",
    "“цена”: [20000, 6000, 2000],\n",
    "“количество”: [5, 2, 7],\n",
    "“ед”: [“шт.”]\n",
    "}"
   ]
  },
  {
   "cell_type": "code",
   "execution_count": null,
   "metadata": {},
   "outputs": [],
   "source": [
    "i = 1\n",
    "commodities = []\n",
    "parameters = dict()\n",
    "answer = ''\n",
    "analitics = {}\n",
    "while answer != 'q':\n",
    "    answer = input(\"Are you ready to input data: Y/N/q \")\n",
    "    while answer == 'Y':\n",
    "        globals()['parameters_n%s' % i] = dict({'название': input(\"введите название: \"), 'цена': input(\"Введите цену: \"),\n",
    "                            'количество': input('Введите количество: '), 'eд': input(\"Введите единицу измерения: \")})\n",
    "        commodities.append(tuple([i, globals()['parameters_n%s' % i]]))\n",
    "        parameters = dict(parameters, **globals()['parameters_n%s' % i]) # I am trying to merge several dict but in result appering only last dict\n",
    "        i += 1\n",
    "        analitics = dict({'название': parameters.get('название'), 'цена': parameters.get('цена'),\n",
    "                          'количество': parameters.get('количество'), 'ед': parameters.get('eд')})\n",
    "        question = input(\"Are you going to finish?: Y/N \")\n",
    "        if question == 'Y':\n",
    "            print(commodities)\n",
    "            print(analitics)\n",
    "            break\n",
    "        else:\n",
    "            continue\n",
    "    if answer == 'N':\n",
    "        print(\"Good bay\")\n",
    "        break\n",
    "    else:\n",
    "        pass"
   ]
  }
 ],
 "metadata": {
  "kernelspec": {
   "display_name": "Python 3",
   "language": "python",
   "name": "python3"
  },
  "language_info": {
   "codemirror_mode": {
    "name": "ipython",
    "version": 3
   },
   "file_extension": ".py",
   "mimetype": "text/x-python",
   "name": "python",
   "nbconvert_exporter": "python",
   "pygments_lexer": "ipython3",
   "version": "3.7.4"
  }
 },
 "nbformat": 4,
 "nbformat_minor": 2
}
