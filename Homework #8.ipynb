{
 "cells": [
  {
   "cell_type": "markdown",
   "metadata": {},
   "source": [
    "1. Реализовать класс «Дата», функция-конструктор которого должна принимать дату в виде\n",
    "строки формата «день-месяц-год». В рамках класса реализовать два метода. Первый, с декоратором @classmethod. Он должен извлекать число, месяц, год и преобразовывать их тип\n",
    "к типу «Число». Второй, с декоратором @staticmethod, должен проводить валидацию числа,\n",
    "месяца и года (например, месяц — от 1 до 12). Проверить работу полученной структуры на\n",
    "реальных данных."
   ]
  },
  {
   "cell_type": "code",
   "execution_count": null,
   "metadata": {},
   "outputs": [],
   "source": [
    "class Data:\n",
    "    def __init__(self, time):\n",
    "        self.time = time\n",
    "    @classmethod\n",
    "    def my_metod (cls, time):\n",
    "        time1 = time.split('-')\n",
    "        time2 = []\n",
    "        for i in time1:\n",
    "            i = int(i)\n",
    "            time2.append(i)\n",
    "        print(time2)\n",
    "\n",
    "    @staticmethod\n",
    "    def my_metod1 (time):\n",
    "        time1 = time.split('-')\n",
    "        time2 = []\n",
    "        for i in time1:\n",
    "            i = int(i)\n",
    "            time2.append(i)\n",
    "        if time2[0]<=31 and time2[0]>0 and time2[1]>0 and time2[1]<=12 and time2[2]<=2021:\n",
    "            print(time2)\n",
    "        else:\n",
    "            print(\"date is incorrect\")\n",
    "Data.my_metod(\"30-20-2047\")\n",
    "Data.my_metod1(\"30-11-2022\")"
   ]
  },
  {
   "cell_type": "markdown",
   "metadata": {},
   "source": [
    "2. Создайте собственный класс-исключение, обрабатывающий ситуацию деления на ноль.\n",
    "Проверьте его работу на данных, вводимых пользователем. При вводе нуля в качестве\n",
    "делителя программа должна корректно обработать эту ситуацию и не завершиться с ошибкой."
   ]
  },
  {
   "cell_type": "code",
   "execution_count": null,
   "metadata": {},
   "outputs": [],
   "source": [
    "class Exception:\n",
    "    @staticmethod\n",
    "    def devision (number):\n",
    "        try:\n",
    "            print (number/0)\n",
    "        except:\n",
    "            print (\"На ноль делить нельзя\")\n",
    "        finally:\n",
    "            print(\"Учите математику\")\n",
    "\n",
    "Exception.devision(20)"
   ]
  },
  {
   "cell_type": "markdown",
   "metadata": {},
   "source": [
    "3. Создайте собственный класс-исключение, который должен проверять содержимое списка на\n",
    "наличие только чисел. Проверить работу исключения на реальном примере. Запрашивать у\n",
    "пользователя данные и заполнять список необходимо только числами. Класс-исключение\n",
    "должен контролировать типы данных элементов списка.\n",
    "Примечание: длина списка не фиксирована. Элементы запрашиваются бесконечно, пока\n",
    "пользователь сам не остановит работу скрипта, введя, например, команду «stop». При этом\n",
    "скрипт завершается, сформированный список с числами выводится на экран.\n",
    "Подсказка: для этого задания примем, что пользователь может вводить только числа и строки.\n",
    "Во время ввода пользователем очередного элемента необходимо реализовать проверку типа\n",
    "элемента. Вносить его в список, только если введено число. Класс-исключение должен не\n",
    "позволить пользователю ввести текст (не число) и отобразить соответствующее сообщение.\n",
    "При этом работа скрипта не должна завершаться."
   ]
  },
  {
   "cell_type": "code",
   "execution_count": null,
   "metadata": {},
   "outputs": [],
   "source": [
    "class Exception():\n",
    "\n",
    "    def iteration (self):\n",
    "            my_list = []\n",
    "            while True:\n",
    "                try:\n",
    "                    list = input()\n",
    "                    if list == 'stop':\n",
    "                        break\n",
    "                    if not list.isdigit():\n",
    "                        print(\"Please enter the numbers\")\n",
    "                        break\n",
    "                    my_list.append(int(list))\n",
    "                except:\n",
    "                    print(\"Please enter the numbers\")\n",
    "            print(my_list)\n",
    "e = Exception()\n",
    "e.iteration()\n"
   ]
  },
  {
   "cell_type": "markdown",
   "metadata": {},
   "source": [
    "4. Начните работу над проектом «Склад оргтехники». Создайте класс, описывающий склад. А\n",
    "также класс «Оргтехника», который будет базовым для классов-наследников. Эти классы —\n",
    "конкретные типы оргтехники (принтер, сканер, ксерокс). В базовом классе определите\n",
    "параметры, общие для приведённых типов. В классах-наследниках реализуйте параметры,\n",
    "уникальные для каждого типа оргтехники.\n",
    "5. Продолжить работу над первым заданием. Разработайте методы, которые отвечают за приём\n",
    "оргтехники на склад и передачу в определённое подразделение компании. Для хранения\n",
    "данных о наименовании и количестве единиц оргтехники, а также других данных, можно\n",
    "использовать любую подходящую структуру (например, словарь).\n",
    "6. Продолжить работу над вторым заданием. Реализуйте механизм валидации вводимых\n",
    "пользователем данных. Например, для указания количества принтеров, отправленных на\n",
    "склад, нельзя использовать строковый тип данных.\n",
    "Подсказка: постарайтесь реализовать в проекте «Склад оргтехники» максимум возможностей,\n",
    "изученных на уроках по ООП."
   ]
  },
  {
   "cell_type": "code",
   "execution_count": null,
   "metadata": {},
   "outputs": [],
   "source": [
    "class Office_equipment():\n",
    "    def __init__(self, name, cost, qty):\n",
    "        self.name =name\n",
    "        self.cost = cost\n",
    "        self.qty = qty\n",
    "        self.database = {}\n",
    "\n",
    "    def __str__(self):\n",
    "        print(f'{self.name} цена {self.cost}  {self.qty}')\n",
    "\n",
    "    def add_to_dict (self):\n",
    "        self.database[self.name] = self.cost, self.qty\n",
    "        print(self.database)\n",
    "\n",
    "\n",
    "class Printer(Office_equipment):\n",
    "    def metod(self):\n",
    "        print(self.database)\n",
    "\n",
    "\n",
    "class Scaner(Office_equipment):\n",
    "    def metod_1(self):\n",
    "        print(self.database)\n",
    "\n",
    "\n",
    "class Xerox(Office_equipment):\n",
    "    def metod_2(self):\n",
    "        print(self.database)\n",
    "\n",
    "d = Printer(\"Sony\", 43, 44)\n",
    "d.add_to_dict()\n",
    "s = Scaner(\"Lg\", 23, 2)\n",
    "s.add_to_dict()"
   ]
  },
  {
   "cell_type": "code",
   "execution_count": null,
   "metadata": {},
   "outputs": [],
   "source": [
    "7. Реализовать проект «Операции с комплексными числами». Создайте класс «Комплексное\n",
    "число». Реализуйте перегрузку методов сложения и умножения комплексных чисел. Проверьте\n",
    "работу проекта. Для этого создаёте экземпляры класса (комплексные числа), выполните\n",
    "сложение и умножение созданных экземпляров. Проверьте корректность полученного\n",
    "результата."
   ]
  },
  {
   "cell_type": "code",
   "execution_count": null,
   "metadata": {},
   "outputs": [],
   "source": [
    "class Complex_Number:\n",
    "    def __init__(self, a, b, *args):\n",
    "        self.a = a\n",
    "        self.b = b\n",
    "        self.z = 'a + b * i'\n",
    "\n",
    "    def __add__(self, other):\n",
    "        return f'z = {self.a + other.a} + {self.b + other.b} * i'\n",
    "\n",
    "    def __mul__(self, other):\n",
    "        return f'z = {self.a * other.a - (self.b * other.b)} + {self.b * other.a} * i'\n",
    "\n",
    "    def __str__(self):\n",
    "        return f'z = {self.a} + {self.b} * i'\n",
    "\n",
    "\n",
    "z_1 = Complex_Number(2, -4)\n",
    "z_2 = Complex_Number(6, 8)\n",
    "print(z_1)\n",
    "print(z_1 + z_2)\n",
    "print(z_1 * z_2)"
   ]
  }
 ],
 "metadata": {
  "kernelspec": {
   "display_name": "Python 3",
   "language": "python",
   "name": "python3"
  },
  "language_info": {
   "codemirror_mode": {
    "name": "ipython",
    "version": 3
   },
   "file_extension": ".py",
   "mimetype": "text/x-python",
   "name": "python",
   "nbconvert_exporter": "python",
   "pygments_lexer": "ipython3",
   "version": "3.7.4"
  }
 },
 "nbformat": 4,
 "nbformat_minor": 2
}
