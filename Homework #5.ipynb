{
 "cells": [
  {
   "cell_type": "markdown",
   "metadata": {},
   "source": [
    "1. Создать программный файл в текстовом формате, записать в него построчно данные, вводимые пользователем. Об окончании ввода данных будет свидетельствовать пустая строка."
   ]
  },
  {
   "cell_type": "code",
   "execution_count": null,
   "metadata": {},
   "outputs": [],
   "source": [
    "my_list = []\n",
    "while True:\n",
    "    line = input(\"Please enter the text: \")\n",
    "    if line == '':\n",
    "        print(content)\n",
    "        exit()\n",
    "    else:\n",
    "        newline = line + '\\n'\n",
    "        my_list.append(newline)\n",
    "    with open(\"file.txt\", \"w+\") as file_obj:\n",
    "        file_obj.writelines(my_list)\n",
    "        file_obj.seek(0)\n",
    "        content = file_obj.read()\n",
    "    print(content)"
   ]
  },
  {
   "cell_type": "markdown",
   "metadata": {},
   "source": [
    "2. Создать текстовый файл (не программно), сохранить в нём несколько строк, выполнить подсчёт строк и слов в каждой строке."
   ]
  },
  {
   "cell_type": "code",
   "execution_count": null,
   "metadata": {},
   "outputs": [],
   "source": [
    "strings = []\n",
    "while True:\n",
    "    raws = input(\"Please write the text: \")\n",
    "    if raws:\n",
    "        strings.append(raws)\n",
    "    else:\n",
    "        break\n",
    "data = '\\n'.join(strings)\n",
    "with open(\"file.txt\", \"w+\") as file_obj:\n",
    "    file_obj.writelines(data)\n",
    "    file_obj.seek(0)\n",
    "    content = file_obj.read()\n",
    "    words = content.split()\n",
    "    lines = 0\n",
    "    for line in content:\n",
    "        lines = lines + line.count('\\n')\n",
    "    print(f\"Quantity of lines {lines + 1}\")\n",
    "    print(f\"Quantity of words {len(words)}\")"
   ]
  },
  {
   "cell_type": "markdown",
   "metadata": {},
   "source": [
    "3. Создать текстовый файл (не программно). Построчно записать фамилии сотрудников и\n",
    "величину их окладов (не менее 10 строк). Определить, кто из сотрудников имеет оклад менее\n",
    "20 тысяч, вывести фамилии этих сотрудников. Выполнить подсчёт средней величины дохода\n",
    "сотрудников.\n",
    "Пример файла:\n",
    "Иванов 23543.12\n",
    "Петров 13749.32"
   ]
  },
  {
   "cell_type": "code",
   "execution_count": null,
   "metadata": {},
   "outputs": [],
   "source": [
    "# data = ['Musk 167664\\n', 'Bezos 144168\\n','Arnault 152744\\n', 'Gates 183768\\n','Zuckenberg 189389\\n','Buffett 97472\\n',\n",
    "#         'Ellison 86753\\n','Page 180884\\n','Brin 199519\\n', 'Ambani 83254\\n','Ortega 157711\\n']\n",
    "with open(\"employees.txt\", \"r\") as file_obj:\n",
    "    salary = []\n",
    "    emloyees = []\n",
    "    qty = 0\n",
    "    total = 0\n",
    "    my_list = file_obj.read().split('\\n')\n",
    "    #my_list = my_list.split()\n",
    "    #print(my_list)\n",
    "    for i in my_list:\n",
    "        i = i.split()\n",
    "        #print(i)\n",
    "        salary.append(i[1])\n",
    "        for el in salary:\n",
    "            el = int(el)\n",
    "            total = total + el\n",
    "        qty = qty + 1\n",
    "        if int(i[1]) < 100000:\n",
    "            emloyees.append(i[0])\n",
    "\n",
    "    print(f'Average salary =', round(total/qty, 2), 'rub')\n",
    "    print((f'Emloyees getting salary less than 100k: {emloyees}'))"
   ]
  },
  {
   "cell_type": "markdown",
   "metadata": {},
   "source": [
    "4. Создать (не программно) текстовый файл со следующим содержимым:\n",
    "One — 1\n",
    "Two — 2\n",
    "Three — 3\n",
    "Four — 4\n",
    "Напишите программу, открывающую файл на чтение и считывающую построчно данные. При\n",
    "этом английские числительные должны заменяться на русские. Новый блок строк должен\n",
    "записываться в новый текстовый файл."
   ]
  },
  {
   "cell_type": "code",
   "execution_count": null,
   "metadata": {},
   "outputs": [],
   "source": [
    "# data = ['One — 1\\n','Two — 2\\n','Three — 3\\n', 'Four — 4']\n",
    "# with open(\"data.txt\", \"a\") as file_obj:\n",
    "#     file_obj.writelines(data)\n",
    "\n",
    "my_list = []\n",
    "try:\n",
    "    f_obj = open(\"data.txt\",)\n",
    "    for line in f_obj:\n",
    "        line = line.split()\n",
    "        my_list.append(line)\n",
    "    my_list = sum(my_list,[])\n",
    "    my_list[0]='Один'\n",
    "    my_list[3] = 'Два'\n",
    "    my_list[6] = 'Три'\n",
    "    my_list[9] = 'Четыре'\n",
    "    my_list.insert(3, \"\\n\")\n",
    "    my_list.insert(7, \"\\n\")\n",
    "    my_list.insert(11, \"\\n\")\n",
    "    print(my_list)\n",
    "except IOError:\n",
    "    print(\"Произошла ошибка ввода-вывода!\")\n",
    "finally:\n",
    "    f_obj.close()\n",
    "    \n",
    "with open(\"new_file.txt\", \"w+\") as file_obj_2:\n",
    "     file_obj_2.writelines(my_list)\n",
    "     content = file_obj_2.read()\n",
    "print(content)\n"
   ]
  },
  {
   "cell_type": "markdown",
   "metadata": {},
   "source": [
    "5. Создать (программно) текстовый файл, записать в него программно набор чисел, разделённых\n",
    "пробелами. Программа должна подсчитывать сумму чисел в файле и выводить её на экран."
   ]
  },
  {
   "cell_type": "code",
   "execution_count": null,
   "metadata": {},
   "outputs": [],
   "source": [
    "my_list = []\n",
    "while True:\n",
    "    numbers = input(\"Please enter the numbers: \")\n",
    "    if numbers:\n",
    "        my_list.append(numbers)\n",
    "    else:\n",
    "        break\n",
    "data = '\\n'.join(my_list)\n",
    "\n",
    "with open(\"numbers.txt\", \"w+\") as file_obj:\n",
    "    file_obj.writelines(data)\n",
    "    file_obj.seek(0)\n",
    "    content = file_obj.read()\n",
    "    total = 0\n",
    "    content = content.split()\n",
    "    for el in content:\n",
    "        el = int(el)\n",
    "        total = total + el\n",
    "    print(total)"
   ]
  },
  {
   "cell_type": "markdown",
   "metadata": {},
   "source": [
    "6. Сформировать (не программно) текстовый файл. В нём каждая строка должна описывать\n",
    "учебный предмет и наличие лекционных, практических и лабораторных занятий по предмету.\n",
    "Сюда должно входить и количество занятий. Необязательно, чтобы для каждого предмета\n",
    "были все типы занятий.\n",
    "Сформировать словарь, содержащий название предмета и общее количество занятий по\n",
    "нему. Вывести его на экран.\n",
    "Примеры строк файла: Информатика: 100(л) 50(пр) 20(лаб).\n",
    "Физика: 30(л) — 10(лаб)\n",
    "Физкультура: — 30(пр) —\n",
    "Пример словаря: {“Информатика”: 170, “Физика”: 40, “Физкультура”: 30}"
   ]
  },
  {
   "cell_type": "code",
   "execution_count": null,
   "metadata": {},
   "outputs": [],
   "source": [
    "subj = {}\n",
    "with open('lessons.txt', 'r') as init_f:\n",
    "    for line in init_f:\n",
    "        subject, lecture, practice, lab = line.split()\n",
    "        subj[subject] = int(lecture) + int(practice) + int(lab)\n",
    "    print(f'Общее количество часов по предмету - \\n {subj}')"
   ]
  },
  {
   "cell_type": "markdown",
   "metadata": {},
   "source": [
    "7. Создать вручную и заполнить несколькими строками текстовый файл, в котором каждая\n",
    "строка будет содержать данные о фирме: название, форма собственности, выручка, издержки.\n",
    "Пример строки файла: firm_1 ООО 10000 5000.\n",
    "Необходимо построчно прочитать файл, вычислить прибыль каждой компании, а также\n",
    "среднюю прибыль. Если фирма получила убытки, в расчёт средней прибыли её не включать.\n",
    "Далее реализовать список. Он должен содержать словарь с фирмами и их прибылями, а\n",
    "также словарь со средней прибылью. Если фирма получила убытки, также добавить её в\n",
    "словарь (со значением убытков).\n",
    "Пример списка: [{“firm_1”: 5000, “firm_2”: 3000, “firm_3”: 1000}, {“average_profit”: 2000}].\n",
    "Итоговый список сохранить в виде json-объекта в соответствующий файл.\n",
    "Пример json-объекта:\n",
    "[{\"firm_1\": 5000, \"firm_2\": 3000, \"firm_3\": 1000}, {\"average_profit\": 2000}]\n",
    "Подсказка: использовать менеджер контекста."
   ]
  },
  {
   "cell_type": "code",
   "execution_count": null,
   "metadata": {},
   "outputs": [],
   "source": [
    "import json\n",
    "result = []\n",
    "profit = {}\n",
    "profit_list = []\n",
    "\n",
    "with open(\"firms.txt\", 'r') as file_read:\n",
    "    counter = 1\n",
    "    while True:\n",
    "        line = file_read.readline().split()\n",
    "        if not line:\n",
    "            break\n",
    "        profit[line[0]] = float(line[2]) - float(line[3])\n",
    "        if profit[line[0]] > 0:\n",
    "            profit_list.append(profit[line[0]])\n",
    "        counter += 1\n",
    "result = [profit, {'average_profit': sum(profit_list) / len(profit_list)}]\n",
    "\n",
    "print(result)\n",
    "with open(\"firms.json\", 'w+') as file_write:\n",
    "    json.dump(result, file_write)"
   ]
  }
 ],
 "metadata": {
  "kernelspec": {
   "display_name": "Python 3",
   "language": "python",
   "name": "python3"
  },
  "language_info": {
   "codemirror_mode": {
    "name": "ipython",
    "version": 3
   },
   "file_extension": ".py",
   "mimetype": "text/x-python",
   "name": "python",
   "nbconvert_exporter": "python",
   "pygments_lexer": "ipython3",
   "version": "3.7.4"
  }
 },
 "nbformat": 4,
 "nbformat_minor": 2
}
