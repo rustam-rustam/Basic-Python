{
 "cells": [
  {
   "cell_type": "markdown",
   "metadata": {},
   "source": [
    "4 . Пользователь вводит целое положительное число. Найдите самую большую цифру в числе.\n",
    "Для решения используйте цикл while и арифметические операции."
   ]
  },
  {
   "cell_type": "code",
   "execution_count": null,
   "metadata": {},
   "outputs": [],
   "source": [
    "number = ''\n",
    "maximum = 0\n",
    "number = input(\"Please enter number > 0: \")\n",
    "while int(number) > 0:\n",
    "    for el in number:\n",
    "        el = int(el)\n",
    "        if el > maximum:\n",
    "            maximum = el\n",
    "    break\n",
    "else:\n",
    "    print(\"Please input number >0\")\n",
    "print(\"maximum is\", maximum)"
   ]
  }
 ],
 "metadata": {
  "kernelspec": {
   "display_name": "Python 3",
   "language": "python",
   "name": "python3"
  },
  "language_info": {
   "codemirror_mode": {
    "name": "ipython",
    "version": 3
   },
   "file_extension": ".py",
   "mimetype": "text/x-python",
   "name": "python",
   "nbconvert_exporter": "python",
   "pygments_lexer": "ipython3",
   "version": "3.7.4"
  }
 },
 "nbformat": 4,
 "nbformat_minor": 2
}
